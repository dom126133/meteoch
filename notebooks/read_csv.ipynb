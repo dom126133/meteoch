{
 "cells": [
  {
   "cell_type": "code",
   "execution_count": 1,
   "id": "e1474696-0251-4277-ad2e-cf3cfe06fe7b",
   "metadata": {},
   "outputs": [],
   "source": [
    "import pandas as pd"
   ]
  },
  {
   "cell_type": "code",
   "execution_count": 9,
   "id": "0135f9ab-2207-4876-81dd-9d4d4d46dc4e",
   "metadata": {},
   "outputs": [
    {
     "name": "stdout",
     "output_type": "stream",
     "text": [
      "      01001  ENJA        JAN MAYEN  70.56   -8.4    10\n",
      "0     01008  ENSB         SVALBARD  78.15  15.28    29\n",
      "1     01025  ----          TROMSOE  69.41  18.55    10\n",
      "2     01028  ENBJ         BJORNOYA  74.31  19.01    16\n",
      "3     01049  ENAT    ALTA LUFTHAVN  69.59  23.22     3\n",
      "4     01052  ENHF       HAMMERFEST  70.40  23.40    81\n",
      "...     ...   ...              ...    ...    ...   ...\n",
      "5989   Z944  ----  WARTSTEINHUETTE  47.39  12.49  1615\n",
      "5990   Z946  ----        KUEHROINT  47.34  12.58  1420\n",
      "5991   Z947  ----  FUNTENSEETAUERN  47.29  12.58  2520\n",
      "5992   Z948  ----      HOELLGRABEN  47.37  13.00   660\n",
      "5993   Z949  ----           JENNER  47.35  13.01  1200\n",
      "\n",
      "[5994 rows x 6 columns]\n"
     ]
    }
   ],
   "source": [
    "df = pd.read_csv('/home/dom/meteoch/meteoch/config/mosmix_stations-2024-02-26.csv', sep=';')\n",
    "print(df)"
   ]
  },
  {
   "cell_type": "code",
   "execution_count": null,
   "id": "4b7ae625-b894-42ee-8f08-ec13f65c02e1",
   "metadata": {},
   "outputs": [],
   "source": []
  }
 ],
 "metadata": {
  "kernelspec": {
   "display_name": "Python 3 (ipykernel)",
   "language": "python",
   "name": "python3"
  },
  "language_info": {
   "codemirror_mode": {
    "name": "ipython",
    "version": 3
   },
   "file_extension": ".py",
   "mimetype": "text/x-python",
   "name": "python",
   "nbconvert_exporter": "python",
   "pygments_lexer": "ipython3",
   "version": "3.11.7"
  }
 },
 "nbformat": 4,
 "nbformat_minor": 5
}

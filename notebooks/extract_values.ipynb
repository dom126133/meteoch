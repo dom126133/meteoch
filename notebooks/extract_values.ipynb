{
 "cells": [
  {
   "cell_type": "code",
   "execution_count": 48,
   "id": "7c82cf1a-bbb9-487d-806b-9386eb56f25f",
   "metadata": {},
   "outputs": [],
   "source": [
    "import pandas as pd\n",
    "import requests\n",
    "from datetime import datetime, timedelta"
   ]
  },
  {
   "cell_type": "code",
   "execution_count": 2,
   "id": "cb9a4dea-bf73-4bac-9b5b-abc69badeed2",
   "metadata": {},
   "outputs": [],
   "source": [
    "pd.set_option('display.float_format', '{:.1f}'.format)"
   ]
  },
  {
   "cell_type": "code",
   "execution_count": 3,
   "id": "9ec5e4f1-a5fc-4017-8c79-3e8c124ead7b",
   "metadata": {},
   "outputs": [],
   "source": [
    "#url to retrive data from open-meteo\n",
    "url='https://ensemble-api.open-meteo.com/v1/ensemble?latitude=46.2022&longitude=6.1457&hourly=temperature_2m&timezone=Europe%2FBerlin&models=icon_seamless'"
   ]
  },
  {
   "cell_type": "code",
   "execution_count": 4,
   "id": "f2748316-c575-47d0-9248-4f09739fda8d",
   "metadata": {},
   "outputs": [],
   "source": [
    "#retrive data\n",
    "r = requests.get(url)"
   ]
  },
  {
   "cell_type": "code",
   "execution_count": 5,
   "id": "f1a92e55-eb0c-4fc5-b861-5be93ee3a647",
   "metadata": {},
   "outputs": [],
   "source": [
    "t2m = r.json()\n",
    "#t2m"
   ]
  },
  {
   "cell_type": "code",
   "execution_count": 6,
   "id": "713571de-48ef-4e59-97e2-4538e0405f67",
   "metadata": {},
   "outputs": [],
   "source": [
    "t2m_hourly_as_list = pd.json_normalize(t2m['hourly'])\n",
    "#rename temperature_2m as temperature_2m_member00\n",
    "t2m_hourly_as_list.rename(columns={\"temperature_2m\": \"temperature_2m_member00\"}, inplace=True)\n",
    "#t2m_hourly_as_list"
   ]
  },
  {
   "cell_type": "code",
   "execution_count": 7,
   "id": "6d43cdc1-ba12-4ef9-814b-52bf75500f7c",
   "metadata": {},
   "outputs": [],
   "source": [
    "t2m_headers = []\n",
    "for item in t2m_hourly_as_list.items():\n",
    "    #print(item[0])\n",
    "    t2m_headers.append(item[0])\n",
    "#t2m_headers"
   ]
  },
  {
   "cell_type": "code",
   "execution_count": 8,
   "id": "ecdd7d6b-5ef2-4f7d-be9f-faf42b73dcd3",
   "metadata": {},
   "outputs": [],
   "source": [
    "t2m_hourly = t2m_hourly_as_list.explode(t2m_headers)\n",
    "#t2m_hourly"
   ]
  },
  {
   "cell_type": "code",
   "execution_count": 39,
   "id": "e5be4ca8-40bc-4e8f-b921-7b889da83d17",
   "metadata": {},
   "outputs": [],
   "source": [
    "t2m_hourly['time'] = pd.to_datetime(t2m_hourly['time'], format='%Y-%m-%dT%H:%M')"
   ]
  },
  {
   "cell_type": "code",
   "execution_count": 41,
   "id": "e425347a-4efd-48dc-a522-e22f5b68d9d2",
   "metadata": {},
   "outputs": [
    {
     "data": {
      "text/plain": [
       "Timestamp('2024-02-04 00:00:00')"
      ]
     },
     "execution_count": 41,
     "metadata": {},
     "output_type": "execute_result"
    }
   ],
   "source": [
    "begin_time = t2m_hourly['time'].min()\n",
    "begin_time"
   ]
  },
  {
   "cell_type": "code",
   "execution_count": 43,
   "id": "fd0e2648-d564-4a88-8116-1e9bbe9699a8",
   "metadata": {},
   "outputs": [
    {
     "data": {
      "text/plain": [
       "Timestamp('2024-02-10 23:00:00')"
      ]
     },
     "execution_count": 43,
     "metadata": {},
     "output_type": "execute_result"
    }
   ],
   "source": [
    "end_time = t2m_hourly['time'].max()\n",
    "end_time"
   ]
  },
  {
   "cell_type": "code",
   "execution_count": 49,
   "id": "31cb4f70-2a2c-49db-b235-ebc86b9a8077",
   "metadata": {},
   "outputs": [
    {
     "name": "stdout",
     "output_type": "stream",
     "text": [
      "2024-02-04 00:00:00\n",
      "2024-02-05 00:00:00\n",
      "2024-02-06 00:00:00\n",
      "2024-02-07 00:00:00\n",
      "2024-02-08 00:00:00\n",
      "2024-02-09 00:00:00\n",
      "2024-02-10 00:00:00\n",
      "2024-02-11 00:00:00\n"
     ]
    }
   ],
   "source": [
    "time = begin_time\n",
    "print(time)\n",
    "while time < end_time:\n",
    "    time = time + timedelta(days=1)\n",
    "    print(time)"
   ]
  },
  {
   "cell_type": "code",
   "execution_count": 10,
   "id": "706fb76b-9024-47ab-83dc-50f7f5e0f546",
   "metadata": {},
   "outputs": [],
   "source": [
    " #t2m_hourly.dtypes"
   ]
  },
  {
   "cell_type": "code",
   "execution_count": 11,
   "id": "f55b7831-d49c-4555-9319-e0e8ccbe4048",
   "metadata": {},
   "outputs": [],
   "source": [
    "# extract values for today\n",
    "today = t2m_hourly.loc[(t2m_hourly['time'] >= '2024-02-04') & (t2m_hourly['time'] < '2024-02-05')]\n",
    "#today"
   ]
  },
  {
   "cell_type": "code",
   "execution_count": 12,
   "id": "402627b0-6861-4440-a43f-969936b41099",
   "metadata": {},
   "outputs": [],
   "source": [
    "#Transpose data in order to have each member as rows and hours in columns\n",
    "today_tr = today.transpose()\n",
    "#today_tr"
   ]
  },
  {
   "cell_type": "code",
   "execution_count": 13,
   "id": "02474680-23ef-4816-abac-d92bde765525",
   "metadata": {},
   "outputs": [],
   "source": [
    "#find minimum values\n",
    "tn = today.min()\n",
    "#tn"
   ]
  },
  {
   "cell_type": "code",
   "execution_count": 14,
   "id": "0b0b7749-39b1-4fbf-8b54-b798a0ced8aa",
   "metadata": {},
   "outputs": [],
   "source": [
    "tx = today.max()"
   ]
  },
  {
   "cell_type": "code",
   "execution_count": 15,
   "id": "4a82fd9e-21e4-410c-a5ae-e84545566c13",
   "metadata": {},
   "outputs": [],
   "source": [
    "tmean = today.mean()"
   ]
  },
  {
   "cell_type": "code",
   "execution_count": 16,
   "id": "f1cb0e03-7bc2-46a4-96a1-8023e8357d1f",
   "metadata": {},
   "outputs": [],
   "source": [
    "tmedian = today.median()\n"
   ]
  },
  {
   "cell_type": "code",
   "execution_count": 17,
   "id": "f2e7f248-b4c8-47f0-b79a-6d00c40dedb4",
   "metadata": {},
   "outputs": [],
   "source": [
    "# generate a dataframe containing min, max, mean and median\n",
    "# drop first row with iloc\n",
    "result = pd.concat([tn,tx,tmean,tmedian], axis=1).iloc[1:, :]\n",
    "result = result.rename(columns={0:'min', 1:'max', 2:'mean', 3:'median'})\n",
    "#result"
   ]
  },
  {
   "cell_type": "code",
   "execution_count": 18,
   "id": "cc38c7f9-8a38-4b6f-a3eb-5f645ec97151",
   "metadata": {},
   "outputs": [],
   "source": [
    "threshold = -2"
   ]
  },
  {
   "cell_type": "code",
   "execution_count": 38,
   "id": "059fbb7f-15e0-4237-8c50-fb7de8064a4b",
   "metadata": {},
   "outputs": [
    {
     "name": "stdout",
     "output_type": "stream",
     "text": [
      "2, 40 5 %\n"
     ]
    }
   ],
   "source": [
    "# Accessing all the values less than threshold \n",
    "# counting them and return % value\n",
    "# count number of values and divide by the number of rows\n",
    "no_under_threshold = result.loc[result['min'] <= threshold, 'min'].count()\n",
    "no_total = result['min'].count()\n",
    "pc_tn = no_under_threshold / no_total *100\n",
    "print(f\"{no_under_threshold}, {no_total} {pc_tn:.0f} %\")"
   ]
  },
  {
   "cell_type": "code",
   "execution_count": null,
   "id": "50c22b76-3a3b-4e0e-9d3e-832c3bd6d61f",
   "metadata": {},
   "outputs": [],
   "source": []
  }
 ],
 "metadata": {
  "kernelspec": {
   "display_name": "Python 3 (ipykernel)",
   "language": "python",
   "name": "python3"
  },
  "language_info": {
   "codemirror_mode": {
    "name": "ipython",
    "version": 3
   },
   "file_extension": ".py",
   "mimetype": "text/x-python",
   "name": "python",
   "nbconvert_exporter": "python",
   "pygments_lexer": "ipython3",
   "version": "3.11.7"
  }
 },
 "nbformat": 4,
 "nbformat_minor": 5
}

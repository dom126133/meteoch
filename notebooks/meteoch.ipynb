{
 "cells": [
  {
   "cell_type": "code",
   "execution_count": 1,
   "id": "7c82cf1a-bbb9-487d-806b-9386eb56f25f",
   "metadata": {},
   "outputs": [],
   "source": [
    "import pandas as pd\n",
    "import requests\n",
    "from datetime import datetime, timedelta"
   ]
  },
  {
   "cell_type": "code",
   "execution_count": 2,
   "id": "d08dc620-c905-4788-8737-6f18ab18edbc",
   "metadata": {},
   "outputs": [],
   "source": [
    "class Threshold_pc:\n",
    "    def __init__(self, data):\n",
    "        self.data = data\n",
    "        self.begin_time = data['time'].min()\n",
    "        self.end_time = data['time'].max()\n",
    "\n",
    "    def begin_time(self):\n",
    "        return self.begin_time\n",
    "\n",
    "    def end_time(self):\n",
    "        return self.end_time\n",
    "\n",
    "    def _calculate(self, time, threshold):\n",
    "        #print(time)\n",
    "        values = self.data.loc[(self.data['time'] >= time) & (self.data['time'] < time + timedelta(days=1))]\n",
    "        #print(values)\n",
    "        \n",
    "        tn = values.min()\n",
    "        tx = values.max()\n",
    "        tmean = values.mean()\n",
    "        tmedian = values.median()\n",
    "        \n",
    "        # generate a dataframe containing min, max, mean and median\n",
    "        # drop first row with iloc\n",
    "        result = pd.concat([tn,tx,tmean,tmedian], axis=1).iloc[1:, :]\n",
    "        result = result.rename(columns={0:'min', 1:'max', 2:'mean', 3:'median'})\n",
    "\n",
    "        # Accessing all the values less than threshold \n",
    "        # counting them and return % value\n",
    "        # count number of values and divide by the number of rows\n",
    "        no_under_threshold = result.loc[result['min'] <= threshold, 'min'].count()\n",
    "        no_total = result['min'].count()\n",
    "        pc_tn = no_under_threshold / no_total *100\n",
    "        return [f\"{time:%Y-%m-%d}\", f\"{no_under_threshold}/{no_total}\", f\"{pc_tn:.0f} %\"]\n",
    "        #return f\"{time:%Y-%m-%d}: {no_under_threshold}/{no_total} = {pc_tn:.0f} %\"\n",
    "\n",
    "    def pc(self, threshold):\n",
    "        time = self.begin_time\n",
    "        #self._calculate(time, threshold)\n",
    "        result = []\n",
    "        while time < self.end_time:\n",
    "            result.append(self._calculate(time, threshold))\n",
    "            time = time + timedelta(days=1)\n",
    "            #print(time)\n",
    "        return result"
   ]
  },
  {
   "cell_type": "code",
   "execution_count": 3,
   "id": "cb9a4dea-bf73-4bac-9b5b-abc69badeed2",
   "metadata": {},
   "outputs": [],
   "source": [
    "pd.set_option('display.float_format', '{:.1f}'.format)"
   ]
  },
  {
   "cell_type": "code",
   "execution_count": 4,
   "id": "9ec5e4f1-a5fc-4017-8c79-3e8c124ead7b",
   "metadata": {},
   "outputs": [],
   "source": [
    "#url to retrive data from open-meteo\n",
    "url = 'https://ensemble-api.open-meteo.com/v1/ensemble?latitude=46.2022&longitude=6.1457&hourly=temperature_2m&timezone=Europe%2FBerlin&forecast_days=9&models=icon_seamless'"
   ]
  },
  {
   "cell_type": "code",
   "execution_count": 5,
   "id": "f2748316-c575-47d0-9248-4f09739fda8d",
   "metadata": {},
   "outputs": [],
   "source": [
    "#retrive data\n",
    "r = requests.get(url)"
   ]
  },
  {
   "cell_type": "code",
   "execution_count": 6,
   "id": "f1a92e55-eb0c-4fc5-b861-5be93ee3a647",
   "metadata": {},
   "outputs": [],
   "source": [
    "t2m = r.json()\n",
    "#t2m"
   ]
  },
  {
   "cell_type": "code",
   "execution_count": 7,
   "id": "713571de-48ef-4e59-97e2-4538e0405f67",
   "metadata": {},
   "outputs": [],
   "source": [
    "t2m_hourly_as_list = pd.json_normalize(t2m['hourly'])\n",
    "#rename temperature_2m as temperature_2m_member00\n",
    "t2m_hourly_as_list.rename(columns={\"temperature_2m\": \"temperature_2m_member00\"}, inplace=True)\n",
    "#t2m_hourly_as_list"
   ]
  },
  {
   "cell_type": "code",
   "execution_count": 14,
   "id": "6d43cdc1-ba12-4ef9-814b-52bf75500f7c",
   "metadata": {},
   "outputs": [],
   "source": [
    "t2m_headers = []\n",
    "for item in t2m_hourly_as_list.items():\n",
    "    #print(item[0])\n",
    "    t2m_headers.append(item[0])\n",
    "#t2m_headers"
   ]
  },
  {
   "cell_type": "code",
   "execution_count": 15,
   "id": "ecdd7d6b-5ef2-4f7d-be9f-faf42b73dcd3",
   "metadata": {},
   "outputs": [],
   "source": [
    "t2m_hourly = t2m_hourly_as_list.explode(t2m_headers)\n",
    " #t2m_hourly"
   ]
  },
  {
   "cell_type": "code",
   "execution_count": 16,
   "id": "e5be4ca8-40bc-4e8f-b921-7b889da83d17",
   "metadata": {},
   "outputs": [],
   "source": [
    "t2m_hourly['time'] = pd.to_datetime(t2m_hourly['time'], format='%Y-%m-%dT%H:%M')"
   ]
  },
  {
   "cell_type": "code",
   "execution_count": 17,
   "id": "edf57f01-e06a-4d33-a912-6eb0b737e9ba",
   "metadata": {},
   "outputs": [],
   "source": [
    "t2m = Threshold_pc(t2m_hourly)"
   ]
  },
  {
   "cell_type": "code",
   "execution_count": 18,
   "id": "cf779422-3475-40c5-9984-cceecf2e4b68",
   "metadata": {},
   "outputs": [
    {
     "data": {
      "text/plain": [
       "[['2024-02-07', '11/40', '28 %'],\n",
       " ['2024-02-08', '0/40', '0 %'],\n",
       " ['2024-02-09', '0/40', '0 %'],\n",
       " ['2024-02-10', '0/40', '0 %'],\n",
       " ['2024-02-11', '0/40', '0 %'],\n",
       " ['2024-02-12', '0/40', '0 %'],\n",
       " ['2024-02-13', '0/40', '0 %'],\n",
       " ['2024-02-14', '1/40', '2 %'],\n",
       " ['2024-02-15', '2/40', '5 %']]"
      ]
     },
     "execution_count": 18,
     "metadata": {},
     "output_type": "execute_result"
    }
   ],
   "source": [
    "t2m.pc(0)"
   ]
  },
  {
   "cell_type": "code",
   "execution_count": null,
   "id": "50c22b76-3a3b-4e0e-9d3e-832c3bd6d61f",
   "metadata": {},
   "outputs": [],
   "source": []
  }
 ],
 "metadata": {
  "kernelspec": {
   "display_name": "Python 3 (ipykernel)",
   "language": "python",
   "name": "python3"
  },
  "language_info": {
   "codemirror_mode": {
    "name": "ipython",
    "version": 3
   },
   "file_extension": ".py",
   "mimetype": "text/x-python",
   "name": "python",
   "nbconvert_exporter": "python",
   "pygments_lexer": "ipython3",
   "version": "3.11.7"
  }
 },
 "nbformat": 4,
 "nbformat_minor": 5
}

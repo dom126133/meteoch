{
 "cells": [
  {
   "cell_type": "code",
   "execution_count": 1,
   "id": "103e8a4b-d9b2-4c0d-bf0a-87703f1c3be4",
   "metadata": {},
   "outputs": [],
   "source": [
    "import math"
   ]
  },
  {
   "cell_type": "code",
   "execution_count": 25,
   "id": "fb525573-c6b7-4c3f-b3fc-605547dbda57",
   "metadata": {},
   "outputs": [],
   "source": [
    "angle = 47.314"
   ]
  },
  {
   "cell_type": "code",
   "execution_count": 26,
   "id": "3a7c6a9b-826f-4836-aac3-f7febffe375c",
   "metadata": {},
   "outputs": [
    {
     "name": "stdout",
     "output_type": "stream",
     "text": [
      "47\n"
     ]
    }
   ],
   "source": [
    "degree = math.floor(angle)\n",
    "print(degree)"
   ]
  },
  {
   "cell_type": "code",
   "execution_count": 27,
   "id": "847bbee7-6998-468b-a779-0eab6ce09310",
   "metadata": {},
   "outputs": [
    {
     "name": "stdout",
     "output_type": "stream",
     "text": [
      "18.840000000000003\n",
      "18\n"
     ]
    }
   ],
   "source": [
    "minutes = (angle-degree) * 60\n",
    "print(minutes)\n",
    "whole_minutes = math.floor(minutes)\n",
    "print(whole_minutes)"
   ]
  },
  {
   "cell_type": "code",
   "execution_count": 28,
   "id": "c5aa58bb-7463-47dc-8956-cef127475e33",
   "metadata": {},
   "outputs": [
    {
     "name": "stdout",
     "output_type": "stream",
     "text": [
      "50.4\n"
     ]
    }
   ],
   "source": [
    "seconds = (minutes-whole_minutes) * 60\n",
    "print(round(seconds,3))"
   ]
  },
  {
   "cell_type": "code",
   "execution_count": 29,
   "id": "e390116f-6b80-4c6a-8bb0-55e49157cdfe",
   "metadata": {},
   "outputs": [
    {
     "name": "stdout",
     "output_type": "stream",
     "text": [
      "47.18504\n"
     ]
    }
   ],
   "source": [
    "value = degree + (whole_minutes / 100) + (seconds / 10000)\n",
    "print(value)"
   ]
  },
  {
   "cell_type": "code",
   "execution_count": 43,
   "id": "acc31e3d-2f9f-49c7-9636-23be68d60ef3",
   "metadata": {},
   "outputs": [],
   "source": [
    "dms = 47.18504"
   ]
  },
  {
   "cell_type": "code",
   "execution_count": 44,
   "id": "ed1e7d54-7a69-4acd-b8ae-8165b4aac3e3",
   "metadata": {},
   "outputs": [
    {
     "name": "stdout",
     "output_type": "stream",
     "text": [
      "47\n"
     ]
    }
   ],
   "source": [
    "deg = math.floor(dms)\n",
    "print(deg)"
   ]
  },
  {
   "cell_type": "code",
   "execution_count": 45,
   "id": "d3dad033-be21-4b5a-b8cb-3d5dee2bcb50",
   "metadata": {},
   "outputs": [
    {
     "name": "stdout",
     "output_type": "stream",
     "text": [
      "18\n"
     ]
    }
   ],
   "source": [
    "min = math.floor((dms-deg)*100)\n",
    "print(min)"
   ]
  },
  {
   "cell_type": "code",
   "execution_count": 48,
   "id": "c5a1a5d7-061c-4a8b-bc0d-1847f6dcf273",
   "metadata": {},
   "outputs": [
    {
     "name": "stdout",
     "output_type": "stream",
     "text": [
      "50.4\n"
     ]
    }
   ],
   "source": [
    "sec = round(((dms-deg)  * 10000) - (min *100),3)\n",
    "print(sec)"
   ]
  },
  {
   "cell_type": "code",
   "execution_count": 49,
   "id": "068bdb1c-a887-4216-92c0-e5f13c9100ca",
   "metadata": {},
   "outputs": [
    {
     "name": "stdout",
     "output_type": "stream",
     "text": [
      "47.314\n"
     ]
    }
   ],
   "source": [
    "dec = deg + min/60 + sec/3600\n",
    "print(dec)"
   ]
  },
  {
   "cell_type": "code",
   "execution_count": null,
   "id": "ecf056a9-1ece-4660-9870-6ff6c2522c0a",
   "metadata": {},
   "outputs": [],
   "source": []
  }
 ],
 "metadata": {
  "kernelspec": {
   "display_name": "Python 3 (ipykernel)",
   "language": "python",
   "name": "python3"
  },
  "language_info": {
   "codemirror_mode": {
    "name": "ipython",
    "version": 3
   },
   "file_extension": ".py",
   "mimetype": "text/x-python",
   "name": "python",
   "nbconvert_exporter": "python",
   "pygments_lexer": "ipython3",
   "version": "3.11.7"
  }
 },
 "nbformat": 4,
 "nbformat_minor": 5
}

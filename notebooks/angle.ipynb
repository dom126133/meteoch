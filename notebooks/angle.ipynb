{
 "cells": [
  {
   "cell_type": "code",
   "execution_count": 28,
   "id": "103e8a4b-d9b2-4c0d-bf0a-87703f1c3be4",
   "metadata": {},
   "outputs": [],
   "source": [
    "import math"
   ]
  },
  {
   "cell_type": "code",
   "execution_count": 22,
   "id": "5ad9ccd2-ff31-46c5-b209-f43ab791a03b",
   "metadata": {},
   "outputs": [],
   "source": [
    "# Convert decimal angle (° dec) to sexagesimal angle (dd.mmss,ss)\n",
    "def dec_to_sex_angle(dec):\n",
    "    degree = int(math.floor(dec))\n",
    "    minute = int(math.floor((dec - degree) * 60))\n",
    "    second = (((dec - degree) * 60) - minute) * 60\n",
    "    return degree + (float(minute) / 100) + (second / 10000)\n",
    "\t\t\n",
    "# Convert sexagesimal angle (dd.mmss) to decimal angle (degrees)\n",
    "def sex_to_dec_angle(dms):\n",
    "    degree = 0\n",
    "    minute = 0\n",
    "    second = 0\n",
    "    degree = math.floor(dms)\n",
    "    minute = math.floor((dms - degree) * 100)\n",
    "    second = (((dms - degree) * 100) - minute) * 100\n",
    "    return degree + (minute / 60) + (second / 3600)"
   ]
  },
  {
   "cell_type": "code",
   "execution_count": 23,
   "id": "78cbfb38-c3fb-4f46-90e1-397a63c35d79",
   "metadata": {},
   "outputs": [
    {
     "data": {
      "text/plain": [
       "3.3"
      ]
     },
     "execution_count": 23,
     "metadata": {},
     "output_type": "execute_result"
    }
   ],
   "source": [
    "dec_to_sex_angle(3.5)"
   ]
  },
  {
   "cell_type": "code",
   "execution_count": 24,
   "id": "7c0fd1b5-8c08-4b02-bc99-a7eabf0cdf45",
   "metadata": {},
   "outputs": [
    {
     "data": {
      "text/plain": [
       "1500.0"
      ]
     },
     "execution_count": 24,
     "metadata": {},
     "output_type": "execute_result"
    }
   ],
   "source": [
    "sex_angle_to_seconds(0.25)"
   ]
  },
  {
   "cell_type": "code",
   "execution_count": 101,
   "id": "f7977865-bcd7-472e-9bdc-8dc3405c8e0f",
   "metadata": {},
   "outputs": [
    {
     "name": "stdout",
     "output_type": "stream",
     "text": [
      "14701.08\n"
     ]
    }
   ],
   "source": [
    "# Convert sexagesimal angle (dd.mmss,ss) to seconds\n",
    "def sex_angle_to_seconds(dms):\n",
    "    \"\"\"Return the number of second in the angle given by dd.mmss,ss\n",
    "    Example: 4.050108 is 4 degrees, 5 min, 01.08 sec\n",
    "    Return 14701.08\n",
    "    \"\"\"\n",
    "    mmssss, dd = math.modf(dms) # get dd and mmssss as a fract and whole\n",
    "    dd_str = f\"{dd:.0f}\" # get dd as a string with format \"d\"\n",
    "    ssss, mm = math.modf(mmssss*100) # get mm and ssss as a frac and whole\n",
    "    mm_str = f\"{mm:02.0f}\" # get mm as a string with format \"mm\"\n",
    "    ssss_str = f\"{(ssss*100):05.2f}\" # get ssss as a string with format \"ss.ss\"\n",
    "    #print(f\"{dd_str}° {mm_str}' {ssss_str}\\\"\")\n",
    "    # calculate the number of second by adding dd*3600 and mm*60 ansd ss.ss\n",
    "    seconds = int(dd_str) * 3600 + int(mm_str) * 60 + float(ssss_str)\n",
    "    return seconds\n",
    "\n",
    "seconds = sex_angle_to_seconds(4.050108)\n",
    "print(seconds)"
   ]
  },
  {
   "cell_type": "code",
   "execution_count": null,
   "id": "fb525573-c6b7-4c3f-b3fc-605547dbda57",
   "metadata": {},
   "outputs": [],
   "source": []
  },
  {
   "cell_type": "code",
   "execution_count": null,
   "id": "3a7c6a9b-826f-4836-aac3-f7febffe375c",
   "metadata": {},
   "outputs": [],
   "source": []
  },
  {
   "cell_type": "code",
   "execution_count": null,
   "id": "847bbee7-6998-468b-a779-0eab6ce09310",
   "metadata": {},
   "outputs": [],
   "source": []
  }
 ],
 "metadata": {
  "kernelspec": {
   "display_name": "Python 3 (ipykernel)",
   "language": "python",
   "name": "python3"
  },
  "language_info": {
   "codemirror_mode": {
    "name": "ipython",
    "version": 3
   },
   "file_extension": ".py",
   "mimetype": "text/x-python",
   "name": "python",
   "nbconvert_exporter": "python",
   "pygments_lexer": "ipython3",
   "version": "3.11.7"
  }
 },
 "nbformat": 4,
 "nbformat_minor": 5
}
